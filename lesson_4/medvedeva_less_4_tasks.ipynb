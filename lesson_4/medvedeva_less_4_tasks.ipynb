{
 "cells": [
  {
   "cell_type": "markdown",
   "metadata": {},
   "source": [
    "## Занятие 4:\n",
    "## Сложность алгоритмов\n"
   ]
  },
  {
   "cell_type": "markdown",
   "metadata": {},
   "source": [
    "#### 1. Оцените сложность кода:\n",
    "\n",
    "```python\n",
    "if test:\n",
    "    block 1\n",
    "else:\n",
    "    block 2\n",
    "```\n",
    "\n",
    "Если в условии test требуется умножение двух $n×n$ матриц. Сложность block 1 – $O(N^2)$, block 2 – $O(N)$."
   ]
  },
  {
   "cell_type": "markdown",
   "metadata": {},
   "source": [
    "test: умножение $i$-й строки на $j$-й столбец — $O(n)$. Эта операция выполняется $n^2$ раз. В итоге: $O(n^3)$\n",
    "\n",
    "Общая сложность: $\\text{test} + \\max(\\text{block 1}, \\text{block 2})$\n",
    "\n",
    "$$ O(N^3) + \\max\\left(O(N^2), O(N)\\right) = O(N^3)$$"
   ]
  },
  {
   "cell_type": "markdown",
   "metadata": {},
   "source": [
    "#### 2. Оцените вычислительная сложность вычисления последовательности Фибоначчи."
   ]
  },
  {
   "cell_type": "code",
   "execution_count": 2,
   "metadata": {},
   "outputs": [
    {
     "data": {
      "text/plain": [
       "55"
      ]
     },
     "execution_count": 2,
     "metadata": {},
     "output_type": "execute_result"
    }
   ],
   "source": [
    "def fibo(n):\n",
    "    if n <= 1:\n",
    "        return n\n",
    "    else:\n",
    "        return fibo(n - 1) + fibo(n - 2)\n",
    "    \n",
    "fibo(10)"
   ]
  },
  {
   "cell_type": "markdown",
   "metadata": {},
   "source": [
    "$$ T(n) = T(n-1) + T(n-2) + C = O(2^{n-1}) + O(2^{n-2}) = O(2^n) $$"
   ]
  },
  {
   "cell_type": "markdown",
   "metadata": {},
   "source": [
    "#### 3. Реализуйте сортировку пузырьком. Какова ассимптотическая сложность алгоритма?"
   ]
  },
  {
   "cell_type": "code",
   "execution_count": 6,
   "metadata": {},
   "outputs": [
    {
     "data": {
      "text/plain": [
       "[1, 2, 3, 4]"
      ]
     },
     "execution_count": 6,
     "metadata": {},
     "output_type": "execute_result"
    }
   ],
   "source": [
    "def bubble_sort(array):\n",
    "    # array = list(array)\n",
    "    for i in range(len(array) - 1):\n",
    "        for j in range(i + 1, len(array)):\n",
    "            if array[i] > array[j]:\n",
    "                array[i], array[j] = array[j], array[i]\n",
    "    return array\n",
    "\n",
    "bubble_sort([4, 3, 2, 1])"
   ]
  },
  {
   "cell_type": "markdown",
   "metadata": {},
   "source": [
    "$$ T(n) = (n-1) + (n-2) + \\ldots + 1 = \\frac {n(n-1)} 2 = O(n^2) $$"
   ]
  },
  {
   "cell_type": "markdown",
   "metadata": {},
   "source": [
    "#### 4. Необходимо написать функцию calc_frac(number), которая принимает 1 аргумент — неотъемлемое целое число number, и возвращает список, содержащий 2 целых числа — числитель и знаменатель крупнейшей правильной несокращаемой дроби, для которой сумма числителя и знаменателя равна number. Вернуть False, если создать такую дробь невозможно. Оцените алгоритмическую сложность и сложность по памяти полученного алгоритма. [Codeforces](https://codeforces.com/problemset/problem/854/A)"
   ]
  },
  {
   "cell_type": "code",
   "execution_count": 9,
   "metadata": {},
   "outputs": [
    {
     "data": {
      "text/plain": [
       "[None, (27, 28), (27, 29), (27, 31)]"
      ]
     },
     "execution_count": 9,
     "metadata": {},
     "output_type": "execute_result"
    }
   ],
   "source": [
    "import math\n",
    "def calc_frac(number):\n",
    "    if number <= 2:\n",
    "        return None\n",
    "    half = number / 2.0\n",
    "    if number % 2 != 0 or half % 2 == 0:\n",
    "        return (math.ceil(half) - 1, math.floor(half) + 1)\n",
    "    else:\n",
    "        return (math.ceil(half) - 2, math.floor(half) + 2)\n",
    "\n",
    "[calc_frac(n) for n in [1, 55, 56, 58]]"
   ]
  },
  {
   "cell_type": "markdown",
   "metadata": {},
   "source": [
    "$$ T(n) = C_1 + \\max\\left(C_2, C_3 + C_4 + \\max(C_5, C_6)\\right) = O(1) $$"
   ]
  },
  {
   "cell_type": "markdown",
   "metadata": {},
   "source": [
    "#### 5. Напишите функцию sudoku(N), которая принимает 1 аргумент — положительное целое число (1 <= N <= 42), и возвращает список списков — квадратную матрицу, представляющий судоку размерности N. Определите сложность алгоритма по памяти и времени."
   ]
  },
  {
   "cell_type": "code",
   "execution_count": 19,
   "metadata": {},
   "outputs": [
    {
     "name": "stdout",
     "output_type": "stream",
     "text": [
      "1 2 3 4 5 6 7 8 9\n",
      "4 5 6 7 8 9 1 2 3\n",
      "7 8 9 1 2 3 4 5 6\n",
      "2 3 4 5 6 7 8 9 1\n",
      "5 6 7 8 9 1 2 3 4\n",
      "8 9 1 2 3 4 5 6 7\n",
      "3 4 5 6 7 8 9 1 2\n",
      "6 7 8 9 1 2 3 4 5\n",
      "9 1 2 3 4 5 6 7 8\n"
     ]
    }
   ],
   "source": [
    "def sudoku(n):\n",
    "    return [\n",
    "        [\n",
    "            ((i*n + i//n + j) % (n*n) + 1)\n",
    "                for j in range(n*n)\n",
    "        ] for i in range(n*n)\n",
    "    ]\n",
    "print(*(' '.join(str(x) for x in row) for row in sudoku(3)), sep='\\n')"
   ]
  },
  {
   "cell_type": "markdown",
   "metadata": {},
   "source": [
    "По памяти: $O(n^4)$, по времени: $O(n^4)$"
   ]
  }
 ],
 "metadata": {
  "kernelspec": {
   "display_name": "Python 3",
   "language": "python",
   "name": "python3"
  },
  "language_info": {
   "codemirror_mode": {
    "name": "ipython",
    "version": 3
   },
   "file_extension": ".py",
   "mimetype": "text/x-python",
   "name": "python",
   "nbconvert_exporter": "python",
   "pygments_lexer": "ipython3",
   "version": "3.9.2"
  }
 },
 "nbformat": 4,
 "nbformat_minor": 4
}
