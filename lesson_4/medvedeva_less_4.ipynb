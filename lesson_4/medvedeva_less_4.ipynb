{
 "cells": [
  {
   "cell_type": "markdown",
   "metadata": {},
   "source": [
    "## Занятие 4:\n",
    "## Сложность алгоритмов\n",
    "\n",
    "\n",
    "### Списки (lists)\n",
    "\n",
    "#### $O(1)$ - класс сложности имеют операции, которые выполняются за константное время, например, создание переменной или сложение небольших чисел.\n",
    "\n",
    "Название                           | Операция\n",
    "-----------------------------------|---\n",
    "Получение элемента                 | `l[i]`\n",
    "Сохранение элемента                | `l[i] = 0`\n",
    "Размер списка                      | `len(l)`\n",
    "Добавление элемента в конец списка | `l.append(5)`\n",
    "Удаление последнего элемента (pop) | `l.pop()`\n",
    "Очищение списка                    | `l.clear()`"
   ]
  },
  {
   "cell_type": "markdown",
   "metadata": {},
   "source": [
    "#### $O(b-a)$, где $a$ и $b$ - границы среза.\n",
    "\n",
    "Название   | Операция\n",
    "-----------|----------\n",
    "Получение среза | `l[a:b]`"
   ]
  },
  {
   "cell_type": "markdown",
   "metadata": {},
   "source": [
    "#### $O(len(...))$\n",
    "\n",
    "Название   | Операция\n",
    "-----------|----------\n",
    "Расширение | `l.extend(...)`\n",
    "Создание   | `list(...)`"
   ]
  },
  {
   "cell_type": "markdown",
   "metadata": {},
   "source": [
    "#### $O(N)$\n",
    "\n",
    "Название   | Операция\n",
    "-----------|----------\n",
    "Сравнение списков (==, !=) | `l_1 == l_2`\n",
    "Вставка | `l[a:b] = ... `\n",
    "Удаление элемента (del) | `del l[i]`\n",
    "Проверка наличия | `x in/not in l`\n",
    "Копирование | `l.copy()`\n",
    "Удаление значения (remove) | `l.remove(...)`\n",
    "Удаление элемента (pop) | `l.pop(i)`\n",
    "Получение минимального/максимального значения | `min(l)/max(l)`\n",
    "Разворачивание списка | `l.reverse()`\n",
    "Перебор |  `for v in l:`"
   ]
  },
  {
   "cell_type": "markdown",
   "metadata": {},
   "source": [
    "#### $O(N\\log N)$\n",
    "\n",
    "Название   | Операция\n",
    "-----------|----------\n",
    "Сортировка | `l.sort()`"
   ]
  },
  {
   "cell_type": "markdown",
   "metadata": {},
   "source": [
    "#### $O(k N)$\n",
    "\n",
    "Название   | Операция\n",
    "-----------|----------\n",
    "Умножение  | `k*l`"
   ]
  },
  {
   "cell_type": "markdown",
   "metadata": {},
   "source": [
    "### Множества (sets)\n",
    "\n",
    "#### $O(1)$ - класс сложности имеют операции, которые выполняются за константное время, например, создание переменной или сложение небольших чисел.\n",
    "\n",
    "Название   | Операция\n",
    "-----------|----------\n",
    "Размер множества | `len(s)`\n",
    "Добавление элемента | `s.add(5)`\n",
    "Проверка наличия значения | `x in/not in s`\n",
    "Удаление значения (remove) | `s.remove(..)`\n",
    "Удаление значения (discard) | `s.discard(..)`\n",
    "Удаление значения (pop) | `s.pop()`\n",
    "Очищение множества | `s.clear()`"
   ]
  },
  {
   "cell_type": "markdown",
   "metadata": {},
   "source": [
    "#### $O(len(...))$\n",
    "\n",
    "Название   | Операция | Сложность\n",
    "-----------|----------|----\n",
    "Создание | `set(...)` | \n",
    "Сравнение множеств (==, !=) |  `s != t` | $O(len(s))$\n",
    "Сравнение множеств (<=/<) | `s <= t` | $O(len(s))$\n",
    "Сравнение множеств (>=/>) | `s >= t` | $O(len(t))$"
   ]
  },
  {
   "cell_type": "markdown",
   "metadata": {},
   "source": [
    "#### $O(len(s)+len(t))$\n",
    "\n",
    "Название   | Операция\n",
    "-----------|----------\n",
    "Объединение (union) | `s | t`\n",
    "Пересечение (intersection) | `s & t`\n",
    "Разность (difference) | `s - t`\n",
    "Симметричная разность | `s ^ t`"
   ]
  },
  {
   "cell_type": "markdown",
   "metadata": {},
   "source": [
    "#### $O(N)$\n",
    "\n",
    "Название   | Операция\n",
    "-----------|----------\n",
    "Перебор множества | `for v in s:`\n",
    "Копирование | `s.copy()`"
   ]
  },
  {
   "cell_type": "markdown",
   "metadata": {},
   "source": [
    "### Словари (dict и defaultdict)\n",
    "\n",
    "#### $O(1)$\n",
    "\n",
    "Название   | Операция\n",
    "-----------|----------\n",
    "Получение элемента | `d[k]`\n",
    "Сохранение элемента | `d[k] = v`\n",
    "Размер словаря | `len(d)`\n",
    "Удаление элемента (del) | `del d[k]`\n",
    "get/setdefault | `d.get(k)`\n",
    "Удаление (pop) | `d.pop(k)`\n",
    "Удаление (popitem) | `d.popitem()`\n",
    "Очищение словаря | `d.clear()`\n",
    "Получение ключей | `d.keys()`"
   ]
  },
  {
   "cell_type": "markdown",
   "metadata": {},
   "source": [
    "####  $O(len(...))$\n",
    "\n",
    "Название   | Операция\n",
    "-----------|----------\n",
    "Создание словаря | `dict(...)`"
   ]
  },
  {
   "cell_type": "markdown",
   "metadata": {},
   "source": [
    "#### $O(N)$\n",
    "\n",
    "Название   | Операция\n",
    "-----------|----------\n",
    "Перебор элементов | `for k in d:`"
   ]
  },
  {
   "cell_type": "markdown",
   "metadata": {},
   "source": [
    "Операция `for i in range(...)` имеет сложность $O(len(...))$. Для `for i in range(1, 10)` она равна $O(1)$."
   ]
  },
  {
   "cell_type": "code",
   "execution_count": 1,
   "metadata": {},
   "outputs": [
    {
     "ename": "KeyboardInterrupt",
     "evalue": "",
     "output_type": "error",
     "traceback": [
      "\u001b[1;31m---------------------------------------------------------------------------\u001b[0m",
      "\u001b[1;31mKeyboardInterrupt\u001b[0m                         Traceback (most recent call last)",
      "\u001b[1;32m<timed eval>\u001b[0m in \u001b[0;36m<module>\u001b[1;34m\u001b[0m\n",
      "\u001b[1;32m<ipython-input-1-58b093683610>\u001b[0m in \u001b[0;36mf_1\u001b[1;34m()\u001b[0m\n\u001b[0;32m      1\u001b[0m \u001b[1;32mdef\u001b[0m \u001b[0mf_1\u001b[0m\u001b[1;33m(\u001b[0m\u001b[1;33m)\u001b[0m\u001b[1;33m:\u001b[0m\u001b[1;33m\u001b[0m\u001b[1;33m\u001b[0m\u001b[0m\n\u001b[0;32m      2\u001b[0m     \u001b[1;32mfor\u001b[0m \u001b[0mi\u001b[0m \u001b[1;32min\u001b[0m \u001b[0mrange\u001b[0m\u001b[1;33m(\u001b[0m\u001b[1;36m10000000000\u001b[0m\u001b[1;33m)\u001b[0m\u001b[1;33m:\u001b[0m\u001b[1;33m\u001b[0m\u001b[1;33m\u001b[0m\u001b[0m\n\u001b[1;32m----> 3\u001b[1;33m         \u001b[1;32mpass\u001b[0m\u001b[1;33m\u001b[0m\u001b[1;33m\u001b[0m\u001b[0m\n\u001b[0m\u001b[0;32m      4\u001b[0m \u001b[1;33m\u001b[0m\u001b[0m\n\u001b[0;32m      5\u001b[0m \u001b[0mget_ipython\u001b[0m\u001b[1;33m(\u001b[0m\u001b[1;33m)\u001b[0m\u001b[1;33m.\u001b[0m\u001b[0mrun_line_magic\u001b[0m\u001b[1;33m(\u001b[0m\u001b[1;34m'time'\u001b[0m\u001b[1;33m,\u001b[0m \u001b[1;34m'f_1()'\u001b[0m\u001b[1;33m)\u001b[0m\u001b[1;33m\u001b[0m\u001b[1;33m\u001b[0m\u001b[0m\n",
      "\u001b[1;31mKeyboardInterrupt\u001b[0m: "
     ]
    }
   ],
   "source": [
    "def f_1():\n",
    "    for i in range(10000000000):\n",
    "        pass\n",
    "    \n",
    "%time f_1()"
   ]
  },
  {
   "cell_type": "code",
   "execution_count": 3,
   "metadata": {},
   "outputs": [
    {
     "ename": "KeyboardInterrupt",
     "evalue": "",
     "output_type": "error",
     "traceback": [
      "\u001b[1;31m---------------------------------------------------------------------------\u001b[0m",
      "\u001b[1;31mKeyboardInterrupt\u001b[0m                         Traceback (most recent call last)",
      "\u001b[1;32m<timed eval>\u001b[0m in \u001b[0;36m<module>\u001b[1;34m\u001b[0m\n",
      "\u001b[1;32m<ipython-input-3-bb2fda03b779>\u001b[0m in \u001b[0;36mf_2\u001b[1;34m()\u001b[0m\n\u001b[0;32m      1\u001b[0m \u001b[1;32mdef\u001b[0m \u001b[0mf_2\u001b[0m\u001b[1;33m(\u001b[0m\u001b[1;33m)\u001b[0m\u001b[1;33m:\u001b[0m\u001b[1;33m\u001b[0m\u001b[1;33m\u001b[0m\u001b[0m\n\u001b[0;32m      2\u001b[0m     \u001b[1;32mfor\u001b[0m \u001b[0mi\u001b[0m \u001b[1;32min\u001b[0m \u001b[0mrange\u001b[0m\u001b[1;33m(\u001b[0m\u001b[1;36m0\u001b[0m\u001b[1;33m,\u001b[0m\u001b[1;36m10000000000\u001b[0m\u001b[1;33m)\u001b[0m\u001b[1;33m:\u001b[0m\u001b[1;33m\u001b[0m\u001b[1;33m\u001b[0m\u001b[0m\n\u001b[1;32m----> 3\u001b[1;33m         \u001b[1;32mpass\u001b[0m\u001b[1;33m\u001b[0m\u001b[1;33m\u001b[0m\u001b[0m\n\u001b[0m\u001b[0;32m      4\u001b[0m \u001b[1;33m\u001b[0m\u001b[0m\n\u001b[0;32m      5\u001b[0m \u001b[0mget_ipython\u001b[0m\u001b[1;33m(\u001b[0m\u001b[1;33m)\u001b[0m\u001b[1;33m.\u001b[0m\u001b[0mrun_line_magic\u001b[0m\u001b[1;33m(\u001b[0m\u001b[1;34m'time'\u001b[0m\u001b[1;33m,\u001b[0m \u001b[1;34m'f_2()'\u001b[0m\u001b[1;33m)\u001b[0m\u001b[1;33m\u001b[0m\u001b[1;33m\u001b[0m\u001b[0m\n",
      "\u001b[1;31mKeyboardInterrupt\u001b[0m: "
     ]
    }
   ],
   "source": [
    "def f_2():\n",
    "    for i in range(0,10000000000):\n",
    "        pass\n",
    "    \n",
    "%time f_2()"
   ]
  },
  {
   "cell_type": "markdown",
   "metadata": {},
   "source": [
    "Как Вы думаете какоя алгоритмическая сложность будет у операций\n",
    "\n",
    "1. `for i in range(len(alist)/2)` и \n",
    "2. `for i in range(len(alist)/1000000)`?"
   ]
  },
  {
   "cell_type": "markdown",
   "metadata": {},
   "source": [
    "1. $O(len(alist)/2)$\n",
    "2. $O(len(alist)/1000000)$"
   ]
  },
  {
   "cell_type": "markdown",
   "metadata": {},
   "source": [
    "При сравнении двух списков на равенство, класс сложности должен быть $O(N)$, как указано в таблице выше.\n",
    "Однако в реальности это значение нужно умножить на $O==(...)$, \n",
    "где $O==(...)$ это класс сложности для операции сравнения (==) двух значений в списке.\n",
    "Если мы работаем с целыми числами (int), то сложность сравнения будет равна $O(1)$, если со строками (string),\n",
    "то в худшем случае мы получим $O(len(string))$."
   ]
  },
  {
   "cell_type": "markdown",
   "metadata": {},
   "source": [
    "### Закон сложения для O-нотации"
   ]
  },
  {
   "cell_type": "markdown",
   "metadata": {},
   "source": [
    "$$O(f(n)) + O(g(n)) = O(f(n) + g(n))$$\n",
    "\n",
    "При сложении двух классов сложности складываются функции этих классов. \n",
    "\n",
    "$$O(N) + O(\\log N) = O(N + \\log N) = O(N)$$\n",
    "\n",
    "Вызов функции $f(...)$ имеет сложность $O(N)$, а вызов $g(...)$ – $O (N ⋅ \\log N)$. Давайте вызовим эти функции друг за другом. В итоге сложность действия будет равна:\n",
    "\n",
    "$$O(N) + O(N\\log N) = O(N + N\\log N) = O(N\\log N)$$\n",
    "\n",
    "```python\n",
    "if test:\n",
    "  block 1\n",
    "else:\n",
    "  block 2\n",
    "```\n",
    "\n",
    "* test – $O(N)$,\n",
    "* block 1 – $O(N^2)$,\n",
    "* block 2 – $O(N)$.\n",
    "\n",
    "$O(N) + \\max(O(N^2),O(N)) = O(N) + O(N^2) = O(N + N^2) = O(N^2)$"
   ]
  },
  {
   "cell_type": "markdown",
   "metadata": {},
   "source": [
    "### Закон умножения для $O$-нотации"
   ]
  },
  {
   "cell_type": "markdown",
   "metadata": {},
   "source": [
    "$$O(f(N)) ⋅ O(g(N)) = O(f(N) ⋅ g(N))$$\n",
    "\n",
    "Предположим, некоторая функция $f(...)$ имеет класс сложности $O(N^2)$. Выполним ее в цикле $N$ раз:\n",
    "\n",
    "```python\n",
    "for i in range(N):\n",
    "    f(...)\n",
    "```\n",
    "\n",
    "$$O(N) ⋅ O(N^2) = O(N ⋅ N^2) = O(N^3)$$\n",
    "\n",
    "Таким образом, это правило позволяет вычислять класс сложности для выполнения некоторого повторяющегося несколько раз выражения. Необходимо умножить класс сложности количества повторений на класс сложности самого выражения."
   ]
  },
  {
   "cell_type": "markdown",
   "metadata": {},
   "source": [
    "### Пример 1"
   ]
  },
  {
   "cell_type": "code",
   "execution_count": 32,
   "metadata": {},
   "outputs": [],
   "source": [
    "def is_unique1 (alist):\n",
    "    for i in range(len(alist)):             # 1\n",
    "        if alist[i] in alist[i+1:]:           # 2\n",
    "            return False                        # 3\n",
    "    return True                             # 4"
   ]
  },
  {
   "cell_type": "markdown",
   "metadata": {},
   "source": [
    "$O(N)$ – для каждого индекса. \n",
    "\n",
    "1. Создание объекта `range` требует выполнения трех последовательных операций: вычисления аргументов, передачу их в `__init__` и выполнение тела `__init__`. Две последние имеют класс сложности $O(1)$. Сложность $len(alist)$ также $O(1)$, поэтому общая сложность выражения `range(len(alist))` – $O(1) + O(1) + O(1) = O(1)$.\n",
    "2. $O(N)$ – получение индекса + сложение + создание среза + проверка in: $O(1) + O(1) + O(N) + O(N) = O(N)$\n",
    "3. $O(1)$ – в худшем случае никогда не выполняется, можно проигнорировать.\n",
    "4. $O(1)$ – в худшем случае всегда выполняется.\n",
    "\n",
    "$O(N) ⋅ O(N) + O(1) = O(N^2)$\n",
    "\n",
    "Т. е. если размер списка увеличится вдвое, то выполнение функции займет в 4 раза больше времени."
   ]
  },
  {
   "cell_type": "code",
   "execution_count": 34,
   "metadata": {},
   "outputs": [],
   "source": [
    "def is_unique1 (alist : [int]) ->bool:\n",
    "    for i in range(len(alist)):          # O(N)\n",
    "        for j in range(i+1, len(alist)):   # O(N)\n",
    "            if alist[i] == alist[j]:          # O(1)\n",
    "                return False                   # O(1)\n",
    "    return True                           # O(1)"
   ]
  },
  {
   "cell_type": "markdown",
   "metadata": {},
   "source": [
    "### Пример 2"
   ]
  },
  {
   "cell_type": "code",
   "execution_count": 35,
   "metadata": {},
   "outputs": [],
   "source": [
    "def is_unique2 (alist : [int]) -> bool:\n",
    "    copy = list(alist)             # 1\n",
    "    copy.sort()                    # 2\n",
    "    for i in range(len(alist)-1):  # 3\n",
    "        if copy[i] == copy[i+1]:     # 4\n",
    "            return False               # 5\n",
    "    return True                    # 6"
   ]
  },
  {
   "cell_type": "markdown",
   "metadata": {},
   "source": [
    "1. $O(N)$.\n",
    "2. $O(N \\log N)$ – для быстрой сортировки.\n",
    "3. $O(N)$ – на самом деле $N-1$, но это то же самое. Операции получения размера списка и вычитания имеют сложность $O(1)$.\n",
    "4. $O(1)$ – сложение, две операции получения элемента по индексу и сравнение – все со сложностью $O(1)$.\n",
    "5. $O(1)$ – в худшем случае никогда не выполняется.\n",
    "6. $O(1)$ – в худшем случае всегда выполняется.\n",
    "\n",
    "Определим класс сложности функции `is_unique2`:\n",
    "\n",
    "$$O(N) + O(N\\log(N)) + O(N) ⋅ O(1) + O(1) = O(N + N\\log(N) + O(N ⋅ 1) + 1) = O(N + N\\log(N) + N + 1) = O(N\\log(N) + 2N + 1) = O(N\\log(N))$$"
   ]
  },
  {
   "cell_type": "code",
   "execution_count": 38,
   "metadata": {},
   "outputs": [],
   "source": [
    "data = [1,2,3,4,2,2,4,6,5,7,5,8,8,9]\n",
    "\n",
    "# вариант 1\n",
    "copy = list(data)    # O(N)\n",
    "copy.sort()           # O(N log N)\n",
    "\n",
    "# вариант 2\n",
    "copy = sorted(data)  # O(N log N)"
   ]
  },
  {
   "cell_type": "markdown",
   "metadata": {},
   "source": [
    "### Пример 3"
   ]
  },
  {
   "cell_type": "code",
   "execution_count": 39,
   "metadata": {},
   "outputs": [],
   "source": [
    "def is_unique3 (alist : [int]) -> bool:\n",
    "    aset = set(alist)               # O(N)\n",
    "    return len(aset) == len(alist)  # O(1)"
   ]
  },
  {
   "cell_type": "code",
   "execution_count": 40,
   "metadata": {},
   "outputs": [],
   "source": [
    "def is_unique3 (alist : [int]) -> bool:\n",
    "    return len(set(alist)) == len(alist)"
   ]
  },
  {
   "cell_type": "markdown",
   "metadata": {},
   "source": [
    "Класс сложности для всей функции:\n",
    "\n",
    "$O(N) + O(1) = O(N + 1) = O(N)$"
   ]
  }
 ],
 "metadata": {
  "kernelspec": {
   "display_name": "Python 3",
   "language": "python",
   "name": "python3"
  },
  "language_info": {
   "codemirror_mode": {
    "name": "ipython",
    "version": 3
   },
   "file_extension": ".py",
   "mimetype": "text/x-python",
   "name": "python",
   "nbconvert_exporter": "python",
   "pygments_lexer": "ipython3",
   "version": "3.9.2"
  }
 },
 "nbformat": 4,
 "nbformat_minor": 4
}
