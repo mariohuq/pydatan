{
 "cells": [
  {
   "cell_type": "markdown",
   "metadata": {},
   "source": [
    "# Многопоточность в Python\n",
    "# Практическая часть"
   ]
  },
  {
   "cell_type": "markdown",
   "metadata": {},
   "source": [
    "### Задание 1"
   ]
  },
  {
   "cell_type": "markdown",
   "metadata": {},
   "source": [
    "Реализуйте запуск двух процессов с помощью multiprocessing (ещё понадобятся модули time и random):\n",
    "\n",
    "* countUp() подсчитывает 1 вверх, каждую секунду.\n",
    "* countDown() подсчитывает 1 вниз, каждую секунду."
   ]
  },
  {
   "cell_type": "code",
   "execution_count": 1,
   "metadata": {},
   "outputs": [],
   "source": [
    "from multiprocessing import Process\n",
    "from task_count import count_up, count_down\n",
    "\n",
    "up_proc = Process(target=count_up, args=(0,))\n",
    "down_proc = Process(target=count_down, args=(10,))\n",
    "\n",
    "up_proc.start()\n",
    "down_proc.start()\n",
    "\n",
    "up_proc.join()\n",
    "down_proc.join()"
   ]
  },
  {
   "cell_type": "markdown",
   "metadata": {},
   "source": [
    "### Задание 2"
   ]
  },
  {
   "cell_type": "markdown",
   "metadata": {},
   "source": [
    "Есть список $a$\n",
    "\n",
    "Выведите все элементы, которые меньше 5. Решите задачу несколькими способами, одних их которых использует lambda-функцию."
   ]
  },
  {
   "cell_type": "code",
   "execution_count": 5,
   "metadata": {},
   "outputs": [
    {
     "name": "stdout",
     "output_type": "stream",
     "text": [
      "[1, 1, 2, 3]\n",
      "[1, 1, 2, 3]\n",
      "[1, 1, 2, 3]\n"
     ]
    }
   ],
   "source": [
    "a = [1, 1, 2, 3, 5, 8, 13, 21, 34, 55, 89]\n",
    "\n",
    "# 1\n",
    "print([x for x in a if x < 5])\n",
    "\n",
    "# 2\n",
    "print(list(filter(lambda x: x < 5, a)))\n",
    "\n",
    "# 3\n",
    "res = []\n",
    "for x in a:\n",
    "    if x < 5:\n",
    "        res.append(x)\n",
    "print(res)"
   ]
  },
  {
   "cell_type": "markdown",
   "metadata": {},
   "source": [
    "### Задание 3"
   ]
  },
  {
   "cell_type": "markdown",
   "metadata": {},
   "source": [
    "С помощью анонимной функции извлеките из списка числа, делимые на 15."
   ]
  },
  {
   "cell_type": "code",
   "execution_count": 7,
   "metadata": {},
   "outputs": [
    {
     "data": {
      "text/plain": [
       "[15]"
      ]
     },
     "execution_count": 7,
     "metadata": {},
     "output_type": "execute_result"
    }
   ],
   "source": [
    "a = [1, 1, 2, 3, 5, 8, 13, 15, 21, 34, 55, 89]\n",
    "\n",
    "list(filter(lambda x: x % 15 == 0, a))"
   ]
  }
 ],
 "metadata": {
  "kernelspec": {
   "display_name": "Python 3",
   "language": "python",
   "name": "python3"
  },
  "language_info": {
   "codemirror_mode": {
    "name": "ipython",
    "version": 3
   },
   "file_extension": ".py",
   "mimetype": "text/x-python",
   "name": "python",
   "nbconvert_exporter": "python",
   "pygments_lexer": "ipython3",
   "version": "3.9.2"
  }
 },
 "nbformat": 4,
 "nbformat_minor": 4
}
