{
 "cells": [
  {
   "cell_type": "markdown",
   "id": "closed-watershed",
   "metadata": {},
   "source": [
    "# Занятие 5: Командная строка GNU/Linux\n",
    "\n",
    "См. также: [Повторение работы в командной строке Linux](http://cs.mipt.ru/advanced_python/lessons/lab02.html) (материал кафедры информатики и вычислительной математики МФТИ)\n",
    "\n",
    "## Многопользовательская и многозадачная ОС\n",
    "\n",
    "Вычислительный процесс запускается от имени пользователя. У пользователей есть идентификаторы — User ID (UID). Чтобы классифицировать пользователей и администрировать их полномочия, их разделяют на группы. У каждой группы группы есть идентификатор — Group ID (GID).\n",
    "\n",
    "У вычислительных процессов есть некоторые полномочия, доступные пользователю.\n",
    "Присутствие полномочия разрешает выполнение некоторого действия над защищенным объектом, а отсутствие — запрещает.\n",
    "\n",
    "Обычно процессы наделяются полномочиями в зависимости от того, кто является владельцем процесса, то есть процесс получает права пользователя, который его запустил.\n",
    "\n",
    "ОС для каждого вычислительного процесса любое действие, связанное с аппаратурой, проходит через API (application program interface) — интерфейсов взаимодействия с операционной системой.\n",
    "\n",
    "Системный вызов (system call) — обращение прикладной программы к ядру операционной системы для выполнения какой-либо операции.\n",
    "\n",
    "## Файловая система\n",
    "\n",
    "ОС умеет интерпретировать данные на жестком диске в виде файловой системы.\n",
    "Кроме реальных файлов, представленных на жестком диске, есть файлы виртуальных файловых систем, представленных ресурсами ОС.\n",
    "\n",
    "Примеры виртуальных файловых систем /proc (механизм для ядра и его модулей, позволяющий посылать информацию процессам), /run (содержит PID-файлы процессов)\n",
    "\n",
    "Информация о процессоре ( модель, семейство, размер кэша и т.д.):"
   ]
  },
  {
   "cell_type": "code",
   "execution_count": 1,
   "id": "governing-length",
   "metadata": {},
   "outputs": [
    {
     "name": "stdout",
     "output_type": "stream",
     "text": [
      "processor\t: 0\n",
      "vendor_id\t: AuthenticAMD\n",
      "cpu family\t: 22\n",
      "model\t\t: 48\n",
      "model name\t: AMD A4-6210 APU with AMD Radeon R3 Graphics    \n",
      "stepping\t: 1\n",
      "microcode\t: 0x7030106\n",
      "cpu MHz\t\t: 1800.000\n",
      "cache size\t: 2048 KB\n",
      "physical id\t: 0\n",
      "siblings\t: 4\n",
      "core id\t\t: 0\n",
      "cpu cores\t: 4\n",
      "apicid\t\t: 0\n",
      "initial apicid\t: 0\n",
      "fpu\t\t: yes\n",
      "fpu_exception\t: yes\n",
      "cpuid level\t: 19\n",
      "wp\t\t: yes\n",
      "flags\t\t: fpu vme de pse tsc msr pae mce cx8 apic sep mtrr pge mca cmov pat pse36 clflush mmx fxsr sse sse2 ht syscall nx mmxext fxsr_opt pdpe1gb rdtscp lm constant_tsc rep_good acc_power nopl tsc_reliable nonstop_tsc cpuid aperfmperf pni pclmuldq monitor ssse3 cx16 sse4_1 sse4_2 movbe popcnt aes xsave avx f16c rdrand lahf_lm cmp_legacy svm extapic cr8_legacy abm sse4a misalignsse 3dnowprefetch osvw ibs skinit wdt topoext perfctr_nb bpext ptsc perfctr_llc hw_pstate ibpb bmi1 xsaveopt npt lbrv svm_lock nrip_save tsc_scale flushbyasid decode_assists pausefilter pfthreshold overflow_recov\n",
      "bogomips\t: 3600.00\n",
      "TLB size\t: 1024 4K pages\n",
      "clflush size\t: 64\n",
      "cache_alignment\t: 64\n",
      "address sizes\t: 40 bits physical, 48 bits virtual\n",
      "power management: ts ttp tm 100mhzsteps hwpstate acc_power\n",
      "\n",
      "processor\t: 1\n",
      "vendor_id\t: AuthenticAMD\n",
      "cpu family\t: 22\n",
      "model\t\t: 48\n",
      "model name\t: AMD A4-6210 APU with AMD Radeon R3 Graphics    \n",
      "stepping\t: 1\n",
      "microcode\t: 0x7030106\n",
      "cpu MHz\t\t: 1800.000\n",
      "cache size\t: 2048 KB\n",
      "physical id\t: 0\n",
      "siblings\t: 4\n",
      "core id\t\t: 1\n",
      "cpu cores\t: 4\n",
      "apicid\t\t: 1\n",
      "initial apicid\t: 1\n",
      "fpu\t\t: yes\n",
      "fpu_exception\t: yes\n",
      "cpuid level\t: 20\n",
      "wp\t\t: yes\n",
      "flags\t\t: fpu vme de pse tsc msr pae mce cx8 apic sep mtrr pge mca cmov pat pse36 clflush mmx fxsr sse sse2 ht syscall nx mmxext fxsr_opt pdpe1gb rdtscp lm constant_tsc rep_good acc_power nopl tsc_reliable nonstop_tsc cpuid aperfmperf pni pclmuldq monitor ssse3 cx16 sse4_1 sse4_2 movbe popcnt aes xsave avx f16c rdrand lahf_lm cmp_legacy svm extapic cr8_legacy abm sse4a misalignsse 3dnowprefetch osvw ibs skinit wdt topoext perfctr_nb bpext ptsc perfctr_llc hw_pstate ibpb bmi1 xsaveopt npt lbrv svm_lock nrip_save tsc_scale flushbyasid decode_assists pausefilter pfthreshold overflow_recov\n",
      "bogomips\t: 3600.00\n",
      "TLB size\t: 1024 4K pages\n",
      "clflush size\t: 64\n",
      "cache_alignment\t: 64\n",
      "address sizes\t: 40 bits physical, 48 bits virtual\n",
      "power management: ts ttp tm 100mhzsteps hwpstate acc_power\n",
      "\n",
      "processor\t: 2\n",
      "vendor_id\t: AuthenticAMD\n",
      "cpu family\t: 22\n",
      "model\t\t: 48\n",
      "model name\t: AMD A4-6210 APU with AMD Radeon R3 Graphics    \n",
      "stepping\t: 1\n",
      "microcode\t: 0x7030106\n",
      "cpu MHz\t\t: 1800.000\n",
      "cache size\t: 2048 KB\n",
      "physical id\t: 0\n",
      "siblings\t: 4\n",
      "core id\t\t: 2\n",
      "cpu cores\t: 4\n",
      "apicid\t\t: 2\n",
      "initial apicid\t: 2\n",
      "fpu\t\t: yes\n",
      "fpu_exception\t: yes\n",
      "cpuid level\t: 20\n",
      "wp\t\t: yes\n",
      "flags\t\t: fpu vme de pse tsc msr pae mce cx8 apic sep mtrr pge mca cmov pat pse36 clflush mmx fxsr sse sse2 ht syscall nx mmxext fxsr_opt pdpe1gb rdtscp lm constant_tsc rep_good acc_power nopl tsc_reliable nonstop_tsc cpuid aperfmperf pni pclmuldq monitor ssse3 cx16 sse4_1 sse4_2 movbe popcnt aes xsave avx f16c rdrand lahf_lm cmp_legacy svm extapic cr8_legacy abm sse4a misalignsse 3dnowprefetch osvw ibs skinit wdt topoext perfctr_nb bpext ptsc perfctr_llc hw_pstate ibpb bmi1 xsaveopt npt lbrv svm_lock nrip_save tsc_scale flushbyasid decode_assists pausefilter pfthreshold overflow_recov\n",
      "bogomips\t: 3600.00\n",
      "TLB size\t: 1024 4K pages\n",
      "clflush size\t: 64\n",
      "cache_alignment\t: 64\n",
      "address sizes\t: 40 bits physical, 48 bits virtual\n",
      "power management: ts ttp tm 100mhzsteps hwpstate acc_power\n",
      "\n",
      "processor\t: 3\n",
      "vendor_id\t: AuthenticAMD\n",
      "cpu family\t: 22\n",
      "model\t\t: 48\n",
      "model name\t: AMD A4-6210 APU with AMD Radeon R3 Graphics    \n",
      "stepping\t: 1\n",
      "microcode\t: 0x7030106\n",
      "cpu MHz\t\t: 1800.000\n",
      "cache size\t: 2048 KB\n",
      "physical id\t: 0\n",
      "siblings\t: 4\n",
      "core id\t\t: 3\n",
      "cpu cores\t: 4\n",
      "apicid\t\t: 3\n",
      "initial apicid\t: 3\n",
      "fpu\t\t: yes\n",
      "fpu_exception\t: yes\n",
      "cpuid level\t: 20\n",
      "wp\t\t: yes\n",
      "flags\t\t: fpu vme de pse tsc msr pae mce cx8 apic sep mtrr pge mca cmov pat pse36 clflush mmx fxsr sse sse2 ht syscall nx mmxext fxsr_opt pdpe1gb rdtscp lm constant_tsc rep_good acc_power nopl tsc_reliable nonstop_tsc cpuid aperfmperf pni pclmuldq monitor ssse3 cx16 sse4_1 sse4_2 movbe popcnt aes xsave avx f16c rdrand lahf_lm cmp_legacy svm extapic cr8_legacy abm sse4a misalignsse 3dnowprefetch osvw ibs skinit wdt topoext perfctr_nb bpext ptsc perfctr_llc hw_pstate ibpb bmi1 xsaveopt npt lbrv svm_lock nrip_save tsc_scale flushbyasid decode_assists pausefilter pfthreshold overflow_recov\n",
      "bogomips\t: 3600.00\n",
      "TLB size\t: 1024 4K pages\n",
      "clflush size\t: 64\n",
      "cache_alignment\t: 64\n",
      "address sizes\t: 40 bits physical, 48 bits virtual\n",
      "power management: ts ttp tm 100mhzsteps hwpstate acc_power\n"
     ]
    }
   ],
   "source": [
    "!cat /proc/cpuinfo"
   ]
  },
  {
   "cell_type": "markdown",
   "id": "brief-knowing",
   "metadata": {},
   "source": [
    "Список подмонтированных файловых систем:"
   ]
  },
  {
   "cell_type": "code",
   "execution_count": 2,
   "id": "amino-rally",
   "metadata": {},
   "outputs": [
    {
     "name": "stdout",
     "output_type": "stream",
     "text": [
      "D:/PortableApps/Git / ntfs binary,noacl,auto 1 1\n",
      "D:/PortableApps/Git/usr/bin /bin ntfs binary,noacl,auto 1 1\n",
      "C:/Users/mario/AppData/Local/Temp /tmp ntfs binary,noacl,posix=0,usertemp 1 1\n",
      "C: /c ntfs binary,noacl,posix=0,user,noumount,auto 1 1\n",
      "D: /d ntfs binary,noacl,posix=0,user,noumount,auto 1 1\n"
     ]
    }
   ],
   "source": [
    "!cat /proc/mounts"
   ]
  },
  {
   "cell_type": "markdown",
   "id": "compressed-bread",
   "metadata": {},
   "source": [
    "### Права доступа\n",
    "\n",
    "Чтобы процесс мог взаимодействовать с файлом он должен иметь соответствующее право доступа. В Unix каждому файлу соответствует набор прав доступа, представленный в виде 9-ти битов режима.\n",
    "\n",
    "Попробуем перейти в папку пользователя root:"
   ]
  },
  {
   "cell_type": "code",
   "execution_count": 3,
   "id": "adjusted-voice",
   "metadata": {},
   "outputs": [
    {
     "name": "stderr",
     "output_type": "stream",
     "text": [
      "The system cannot find the path specified.\n"
     ]
    }
   ],
   "source": [
    "!cd /root/"
   ]
  },
  {
   "cell_type": "markdown",
   "id": "earned-tragedy",
   "metadata": {},
   "source": [
    "Доступа нет (В Git Bash нет такой папки)."
   ]
  },
  {
   "cell_type": "markdown",
   "id": "collect-reference",
   "metadata": {},
   "source": [
    "### Структура файловой системы\n",
    "\n",
    "Путь        | Содержание\n",
    "------------|---------------------------------------------\n",
    "/           | корень\n",
    "/bin        | (binaries) бинарные файлы пользователя\n",
    "/sbin       | (system binaries) системные исполняемые файлы\n",
    "/etc        | (etcetera) конфигурационные файлы\n",
    "/dev        | (devices) файлы устройств\n",
    "/proc       | (proccess) информация о процессах\n",
    "/var        | (variable) Переменные файлы\n",
    "/var/log    | Файлы логов\n",
    "/var/lib    | базы данных\n",
    "/var/lock   | файлы блокировок\n",
    "/var/run    | PID процессов\n",
    "/tmp        | (temp) Временные файлы\n",
    "/usr        | (user applications) Программы пользователя\n",
    "/usr/bin/   | Исполняемые файлы\n",
    "/usr/sbin/  | Программы системного администрирования\n",
    "/usr/lib/   | Библиотеки\n",
    "/usr/local  | Файлы пользователя\n",
    "/home       | Домашняя папка\n",
    "/boot       | Файлы загрузчика\n",
    "/lib        | (library) Системные библиотеки\n",
    "/opt        | (Optional applications) Дополнительные программы\n",
    "/mnt        | (mount) Монтирование\n",
    "/media      | Съемные носители\n",
    "/srv        | (server) Сервер\n",
    "/run        | процессы\n",
    "/sys        | (system) Информация о системе"
   ]
  },
  {
   "cell_type": "code",
   "execution_count": 4,
   "id": "sealed-making",
   "metadata": {},
   "outputs": [
    {
     "name": "stdout",
     "output_type": "stream",
     "text": [
      "LICENSE.txt\n",
      "README.portable\n",
      "bin\n",
      "cmd\n",
      "dev\n",
      "etc\n",
      "git-bash.exe\n",
      "git-cmd.exe\n",
      "mingw64\n",
      "proc\n",
      "tmp\n",
      "usr\n"
     ]
    }
   ],
   "source": [
    "!ls /"
   ]
  },
  {
   "cell_type": "markdown",
   "id": "comic-fitting",
   "metadata": {},
   "source": [
    "## Процессы"
   ]
  },
  {
   "cell_type": "code",
   "execution_count": 5,
   "id": "incident-witness",
   "metadata": {},
   "outputs": [
    {
     "name": "stderr",
     "output_type": "stream",
     "text": [
      "'man' is not recognized as an internal or external command,\n",
      "operable program or batch file.\n"
     ]
    }
   ],
   "source": [
    "!man ps"
   ]
  },
  {
   "cell_type": "code",
   "execution_count": 10,
   "id": "portable-performer",
   "metadata": {},
   "outputs": [
    {
     "name": "stdout",
     "output_type": "stream",
     "text": [
      "      PID    PPID    PGID     WINPID   TTY         UID    STIME COMMAND\n",
      "     1887    1859    1887       7528  cons0     197609 12:43:14 /c/Users/mario/AppData/Local/Programs/Python/Python39/Scripts/jupyter-lab\n",
      "     2017       1    2017       2580  ?         197609 14:32:39 /usr/bin/ps\n",
      "     1888       1    1888       1740  cons1     197609 13:59:48 /usr/bin/bash\n",
      "     1859       1    1859       3060  cons0     197609 12:42:07 /usr/bin/bash\n",
      "     1990    1979    1990       1612  cons2     197609 14:25:25 /c/Users/mario/AppData/Local/Programs/Python/Python39/python\n",
      "     1979       1    1979       9136  cons2     197609 14:25:22 /usr/bin/bash\n"
     ]
    }
   ],
   "source": [
    "!ps"
   ]
  },
  {
   "cell_type": "markdown",
   "id": "liquid-blogger",
   "metadata": {},
   "source": [
    "Запустим Python в соседнем терминале."
   ]
  },
  {
   "cell_type": "code",
   "execution_count": 11,
   "id": "damaged-monte",
   "metadata": {},
   "outputs": [
    {
     "name": "stdout",
     "output_type": "stream",
     "text": [
      "     1990    1979    1990       1612  cons2     197609 14:25:25 /c/Users/mario/AppData/Local/Programs/Python/Python39/python\n"
     ]
    }
   ],
   "source": [
    "!ps | grep python"
   ]
  },
  {
   "cell_type": "code",
   "execution_count": 9,
   "id": "artificial-formation",
   "metadata": {},
   "outputs": [
    {
     "name": "stdout",
     "output_type": "stream",
     "text": [
      "cmdline\n",
      "ctty\n",
      "cwd\n",
      "environ\n",
      "exe\n",
      "exename\n",
      "fd\n",
      "gid\n",
      "maps\n",
      "mountinfo\n",
      "mounts\n",
      "pgid\n",
      "ppid\n",
      "root\n",
      "sid\n",
      "stat\n",
      "statm\n",
      "status\n",
      "uid\n",
      "winexename\n",
      "winpid\n"
     ]
    }
   ],
   "source": [
    "!ls /proc/1990/"
   ]
  },
  {
   "cell_type": "markdown",
   "id": "wireless-popularity",
   "metadata": {},
   "source": [
    "Закроем запущенный Python. Посмотрим снова:"
   ]
  },
  {
   "cell_type": "code",
   "execution_count": 12,
   "id": "colored-stack",
   "metadata": {},
   "outputs": [
    {
     "name": "stderr",
     "output_type": "stream",
     "text": [
      "ls: cannot access '/proc/1990': No such file or directory\n"
     ]
    }
   ],
   "source": [
    "!ls /proc/1990"
   ]
  },
  {
   "cell_type": "markdown",
   "id": "valuable-seeker",
   "metadata": {},
   "source": [
    "Посмотрим содержимое файла"
   ]
  },
  {
   "cell_type": "code",
   "execution_count": 13,
   "id": "threatened-freeware",
   "metadata": {},
   "outputs": [
    {
     "name": "stdout",
     "output_type": "stream",
     "text": [
      "197609\n"
     ]
    }
   ],
   "source": [
    "!cat /proc/2040/uid"
   ]
  },
  {
   "cell_type": "markdown",
   "id": "adaptive-jungle",
   "metadata": {
    "tags": []
   },
   "source": [
    "## Команды\n",
    "\n",
    "Команда | Смысл\n",
    "---|---\n",
    "`cd` | сменить директорию\n",
    "`pwd` | вывести текущую директорию\n",
    "`ls` | вывести содержимое директории\n",
    "`ls --color` | c подсветкой\n",
    "`jobs` | список текущих фоновых задач\n",
    "`bg` | продолжить выполнение задачи в фоновом режиме \n",
    "`fg` | вывести задачу из фонового режима\n",
    "`clear` | очистить терминал\n",
    "`rm` | удалить файл\n",
    "`&` в конце команды | запустить команду в фоновом режиме\n",
    "`whereis` | показать местоположение файла\n",
    "`echo` | вывести свои аргументы на экран\n",
    "\n",
    "## Специальные папки\n",
    "\n",
    "Начинаются с точки\n",
    "\n",
    "Папка | Смысл\n",
    "---|---\n",
    "`.` | текущая папка\n",
    "`..` | родительская папка\n",
    "`~` | папка текущего пользователя\n",
    "\n",
    "## Абсолютный и относительный путь\n",
    "\n",
    "Абсолютный путь начинается с `/`."
   ]
  },
  {
   "cell_type": "markdown",
   "id": "continuous-greene",
   "metadata": {
    "tags": []
   },
   "source": [
    "## Оболочка `bash`"
   ]
  },
  {
   "cell_type": "code",
   "execution_count": 45,
   "id": "british-recording",
   "metadata": {},
   "outputs": [
    {
     "name": "stderr",
     "output_type": "stream",
     "text": [
      "i was unexpected at this time.\n"
     ]
    }
   ],
   "source": [
    "!for i in 1 2 3 4 5 6; do echo $i; done"
   ]
  },
  {
   "cell_type": "markdown",
   "id": "dynamic-baseball",
   "metadata": {},
   "source": [
    "## Сигналы процессов\n",
    "\n",
    "### Signal Interrupt (`SIGINT`)\n",
    "\n",
    "Применяется для остановки процесса пользователем с терминала.\n",
    "\n",
    "Посылается программе, выполняемой на терминале, с помощью нажатия специальной комбинации клавиш для прерывания программы (обычно — <kbd>Ctrl</kbd>+<kbd>C</kbd>)\n",
    "\n",
    "### Signal TTY Stop (`SIGTSTP`)\n",
    "\n",
    "Сигнал, посылаемый c терминала для приостановки выполнения процесса (обычно — комбинацией <kbd>Ctrl</kbd>+<kbd>Z</kbd>). Для возобновления выполнения используется сигнал `SIGCONT`.\n",
    "\n",
    "### Signal Kill (`SIGKILL`)\n",
    "\n",
    "сигнал, посылаемый процессам для их немедленного завершения.\n",
    "\n",
    "```bash\n",
    "kill -s KILL 1234\n",
    "```"
   ]
  },
  {
   "cell_type": "markdown",
   "id": "modified-ownership",
   "metadata": {},
   "source": [
    "## Перенаправление потоков ввода-вывода\n",
    "\n",
    "Потоки ввода-вывода:\n",
    "\n",
    "* `stdin` — стандартный ввод\n",
    "* `stdout` — стандартный вывод\n",
    "* `strerr` — поток ошибок"
   ]
  },
  {
   "cell_type": "markdown",
   "id": "floating-mustang",
   "metadata": {},
   "source": [
    "Вывод команды `echo` направляется на ввод команде `python`, а ее вывод направляется в файл `out.txt`:"
   ]
  },
  {
   "cell_type": "code",
   "execution_count": 2,
   "id": "private-enhancement",
   "metadata": {},
   "outputs": [
    {
     "name": "stdout",
     "output_type": "stream",
     "text": [
      "hello 0\n",
      "hello 1\n"
     ]
    }
   ],
   "source": [
    "!echo 2 | python 1_script.py > out.txt\n",
    "!cat out.txt"
   ]
  },
  {
   "cell_type": "markdown",
   "id": "diverse-potential",
   "metadata": {},
   "source": [
    "Запуск исполняемого файла из текущей папки:"
   ]
  },
  {
   "cell_type": "code",
   "execution_count": 2,
   "id": "impressed-economics",
   "metadata": {},
   "outputs": [
    {
     "name": "stdout",
     "output_type": "stream",
     "text": [
      "hello 0\n",
      "hello 1\n"
     ]
    }
   ],
   "source": [
    "!echo 2 | \"./1_script.py\""
   ]
  },
  {
   "cell_type": "markdown",
   "id": "discrete-roulette",
   "metadata": {},
   "source": [
    "Сделать файл 1_script исполняемым:"
   ]
  },
  {
   "cell_type": "code",
   "execution_count": 5,
   "id": "second-reverse",
   "metadata": {},
   "outputs": [],
   "source": [
    "!chmod u+x 1_script"
   ]
  },
  {
   "cell_type": "markdown",
   "id": "periodic-arlington",
   "metadata": {},
   "source": [
    "Запустить файл:"
   ]
  },
  {
   "cell_type": "code",
   "execution_count": 19,
   "id": "ongoing-captain",
   "metadata": {},
   "outputs": [
    {
     "name": "stderr",
     "output_type": "stream",
     "text": [
      "'\"./1_script\"' is not recognized as an internal or external command,\n",
      "operable program or batch file.\n"
     ]
    }
   ],
   "source": [
    "!echo 2 | \"./1_script\""
   ]
  },
  {
   "cell_type": "markdown",
   "id": "bizarre-recipe",
   "metadata": {},
   "source": [
    "Перенаправим вывод `1_script.py` на ввод `2_script.py` оператором `|`:"
   ]
  },
  {
   "cell_type": "code",
   "execution_count": 24,
   "id": "southwest-virtue",
   "metadata": {},
   "outputs": [
    {
     "name": "stdout",
     "output_type": "stream",
     "text": [
      "hello 0hello 0\n",
      "hello 1hello 1\n"
     ]
    }
   ],
   "source": [
    "!echo 2 | \"./1_script.py\" | \"./2_script.py\""
   ]
  },
  {
   "cell_type": "markdown",
   "id": "sustained-glass",
   "metadata": {},
   "source": [
    "## Переменные окружения\n",
    "\n",
    "Переменные начинаются с `$`."
   ]
  },
  {
   "cell_type": "code",
   "execution_count": 18,
   "id": "occasional-speaking",
   "metadata": {},
   "outputs": [
    {
     "name": "stdout",
     "output_type": "stream",
     "text": [
      "$PATH\n"
     ]
    }
   ],
   "source": [
    "!echo $PATH"
   ]
  }
 ],
 "metadata": {
  "kernelspec": {
   "display_name": "Python 3",
   "language": "python",
   "name": "python3"
  },
  "language_info": {
   "codemirror_mode": {
    "name": "ipython",
    "version": 3
   },
   "file_extension": ".py",
   "mimetype": "text/x-python",
   "name": "python",
   "nbconvert_exporter": "python",
   "pygments_lexer": "ipython3",
   "version": "3.9.2"
  }
 },
 "nbformat": 4,
 "nbformat_minor": 5
}